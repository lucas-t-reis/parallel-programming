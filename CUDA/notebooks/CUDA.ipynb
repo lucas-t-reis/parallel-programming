{
  "nbformat": 4,
  "nbformat_minor": 0,
  "metadata": {
    "colab": {
      "name": "CUDA.ipynb",
      "provenance": [],
      "include_colab_link": true
    },
    "kernelspec": {
      "name": "python3",
      "display_name": "Python 3"
    },
    "accelerator": "GPU"
  },
  "cells": [
    {
      "cell_type": "markdown",
      "metadata": {
        "id": "view-in-github",
        "colab_type": "text"
      },
      "source": [
        "<a href=\"https://colab.research.google.com/github/lucas-t-reis/CUDA/blob/master/notebooks/CUDA.ipynb\" target=\"_parent\"><img src=\"https://colab.research.google.com/assets/colab-badge.svg\" alt=\"Open In Colab\"/></a>"
      ]
    },
    {
      "cell_type": "markdown",
      "metadata": {
        "id": "lcRtNSsWeu0q",
        "colab_type": "text"
      },
      "source": [
        " Runtime type set to use Hardware accelerator GPU\n",
        "- Checking if setup was done properly."
      ]
    },
    {
      "cell_type": "code",
      "metadata": {
        "id": "ed7SPuCQeQUz",
        "colab_type": "code",
        "outputId": "65fe2fa1-ae40-4183-bc80-112eea7122d5",
        "colab": {
          "base_uri": "https://localhost:8080/",
          "height": 306
        }
      },
      "source": [
        "!nvidia-smi"
      ],
      "execution_count": 0,
      "outputs": [
        {
          "output_type": "stream",
          "text": [
            "Wed Jan  1 19:00:14 2020       \n",
            "+-----------------------------------------------------------------------------+\n",
            "| NVIDIA-SMI 440.44       Driver Version: 418.67       CUDA Version: 10.1     |\n",
            "|-------------------------------+----------------------+----------------------+\n",
            "| GPU  Name        Persistence-M| Bus-Id        Disp.A | Volatile Uncorr. ECC |\n",
            "| Fan  Temp  Perf  Pwr:Usage/Cap|         Memory-Usage | GPU-Util  Compute M. |\n",
            "|===============================+======================+======================|\n",
            "|   0  Tesla P100-PCIE...  Off  | 00000000:00:04.0 Off |                    0 |\n",
            "| N/A   32C    P0    26W / 250W |      0MiB / 16280MiB |      0%      Default |\n",
            "+-------------------------------+----------------------+----------------------+\n",
            "                                                                               \n",
            "+-----------------------------------------------------------------------------+\n",
            "| Processes:                                                       GPU Memory |\n",
            "|  GPU       PID   Type   Process name                             Usage      |\n",
            "|=============================================================================|\n",
            "|  No running processes found                                                 |\n",
            "+-----------------------------------------------------------------------------+\n"
          ],
          "name": "stdout"
        }
      ]
    },
    {
      "cell_type": "markdown",
      "metadata": {
        "id": "IGE7vhhUftbY",
        "colab_type": "text"
      },
      "source": [
        "Installing plugin to run **CUDA C/C++** code - by \n",
        "andreinechaev"
      ]
    },
    {
      "cell_type": "code",
      "metadata": {
        "id": "Sqgi_2F2ftKV",
        "colab_type": "code",
        "outputId": "30203e06-ae88-4991-9f7f-b0bea8271385",
        "colab": {
          "base_uri": "https://localhost:8080/",
          "height": 241
        }
      },
      "source": [
        "!pip install git+git://github.com/andreinechaev/nvcc4jupyter.git\n",
        "%load_ext nvcc_plugin"
      ],
      "execution_count": 3,
      "outputs": [
        {
          "output_type": "stream",
          "text": [
            "Collecting git+git://github.com/andreinechaev/nvcc4jupyter.git\n",
            "  Cloning git://github.com/andreinechaev/nvcc4jupyter.git to /tmp/pip-req-build-8q8xbmo5\n",
            "  Running command git clone -q git://github.com/andreinechaev/nvcc4jupyter.git /tmp/pip-req-build-8q8xbmo5\n",
            "Building wheels for collected packages: NVCCPlugin\n",
            "  Building wheel for NVCCPlugin (setup.py) ... \u001b[?25l\u001b[?25hdone\n",
            "  Created wheel for NVCCPlugin: filename=NVCCPlugin-0.0.2-cp36-none-any.whl size=4307 sha256=6434fd02e195f4364b824dbed1ee4787c9c9767d517762f0e9664f9e60a5d44d\n",
            "  Stored in directory: /tmp/pip-ephem-wheel-cache-63oq5k9u/wheels/10/c2/05/ca241da37bff77d60d31a9174f988109c61ba989e4d4650516\n",
            "Successfully built NVCCPlugin\n",
            "Installing collected packages: NVCCPlugin\n",
            "Successfully installed NVCCPlugin-0.0.2\n",
            "created output directory at /content/src\n",
            "Out bin /content/result.out\n"
          ],
          "name": "stdout"
        }
      ]
    },
    {
      "cell_type": "markdown",
      "metadata": {
        "id": "_xu6vLyrg_V_",
        "colab_type": "text"
      },
      "source": [
        "#Example 1 - Simple sum"
      ]
    },
    {
      "cell_type": "code",
      "metadata": {
        "colab_type": "code",
        "id": "HjtPJUeqjvtT",
        "outputId": "abf6c771-e4a0-4d82-fe51-07cd206977ed",
        "colab": {
          "base_uri": "https://localhost:8080/",
          "height": 34
        }
      },
      "source": [
        "%%cu\n",
        "\n",
        "#include <stdio.h>\n",
        "#include <stdlib.h>\n",
        "\n",
        "__global__ void add(int *a, int *b, int *c) {\n",
        "    *c = *a + *b;\n",
        "}\n",
        "\n",
        "int main() {\n",
        "    \n",
        "    int a,b,c;\n",
        "    int *d_a, *d_b, *d_c;\n",
        "    int size = sizeof(int);\n",
        "\n",
        "    cudaMalloc( (void **)&d_a, size);\n",
        "    cudaMalloc( (void **)&d_b, size);\n",
        "    cudaMalloc( (void **)&d_c, size);\n",
        "\n",
        "    c = 0;\n",
        "    a = 4;\n",
        "    b = 8;\n",
        "\n",
        "    cudaMemcpy(d_a, &a, size, cudaMemcpyHostToDevice);\n",
        "    cudaMemcpy(d_b, &b, size, cudaMemcpyHostToDevice);\n",
        "\n",
        "    add<<<1,1>>>(d_a, d_b, d_c); // Kernel execution\n",
        "\n",
        "    cudaError err = cudaMemcpy(&c, d_c, size, cudaMemcpyDeviceToHost);\n",
        "    if(err != cudaSuccess) {\n",
        "        printf(\"CUDA error copying to Host: %s\\n\", cudaGetErrorString(err));\n",
        "    }\n",
        "\n",
        "    printf(\"Result is: %d\\n\", c);\n",
        "\n",
        "    cudaFree(d_a);\n",
        "    cudaFree(d_b);\n",
        "    cudaFree(d_c);\n",
        "\n",
        "    return 0;\n",
        "}"
      ],
      "execution_count": 2,
      "outputs": [
        {
          "output_type": "stream",
          "text": [
            "UsageError: Cell magic `%%cu` not found.\n"
          ],
          "name": "stderr"
        }
      ]
    },
    {
      "cell_type": "markdown",
      "metadata": {
        "id": "klJCWadOeJUM",
        "colab_type": "text"
      },
      "source": [
        "# Example 2 - Large arrays addition\n",
        "First, for comparison purposes we time it using a CPU"
      ]
    },
    {
      "cell_type": "code",
      "metadata": {
        "id": "xubSjtoYeUSS",
        "colab_type": "code",
        "colab": {
          "base_uri": "https://localhost:8080/",
          "height": 34
        },
        "outputId": "1997bcfd-154c-4ddc-f6ec-e4bf9f168ffe"
      },
      "source": [
        "%%writefile arrayAdd.cpp\n",
        "\n",
        "//%%cu\n",
        "#include <iostream>\n",
        "#include <math.h>\n",
        "\n",
        "// Adding elements of both arrays\n",
        "\n",
        "void add(int n, float *x, float *y) {\n",
        "    \n",
        "    for(int i=0; i<n; i++)\n",
        "      y[i] = x[i] + y[i];\n",
        "\n",
        "}\n",
        "\n",
        "int main () {\n",
        "    \n",
        "    int N = 1<<25;\n",
        "\n",
        "    float *x = new float[N];\n",
        "    float *y = new float[N];\n",
        "\n",
        "    for(int i=0; i<N; i++) {\n",
        "        x[i] = 1.0f;\n",
        "        y[i] = 2.0f;\n",
        "    }\n",
        "\n",
        "    // Kernel\n",
        "    add(N, x, y);\n",
        "    float maxError = 0.0f;\n",
        "    for(int i = 0; i<N; i++)\n",
        "      maxError = fmax(maxError, fabs(y[i]-3.0f));\n",
        "\n",
        "    std::cout << \"Max error: \" << maxError << std::endl;\n",
        "\n",
        "\n",
        "    delete [] x;\n",
        "    delete [] y;\n",
        "\n",
        "\n",
        "}\n"
      ],
      "execution_count": 62,
      "outputs": [
        {
          "output_type": "stream",
          "text": [
            "Overwriting arrayAdd.cpp\n"
          ],
          "name": "stdout"
        }
      ]
    },
    {
      "cell_type": "code",
      "metadata": {
        "id": "Hj_Y02yrhK_A",
        "colab_type": "code",
        "colab": {
          "base_uri": "https://localhost:8080/",
          "height": 102
        },
        "outputId": "8e210d25-0d6b-42bf-b833-656b28b2832f"
      },
      "source": [
        "!g++ arrayAdd.cpp -o ex2\n",
        "!time ./ex2"
      ],
      "execution_count": 54,
      "outputs": [
        {
          "output_type": "stream",
          "text": [
            "Max error: 0\n",
            "\n",
            "real\t0m0.651s\n",
            "user\t0m0.532s\n",
            "sys\t0m0.111s\n"
          ],
          "name": "stdout"
        }
      ]
    },
    {
      "cell_type": "markdown",
      "metadata": {
        "id": "ZoYaxgqk6OqL",
        "colab_type": "text"
      },
      "source": [
        "### Now the same code modified to run in a GPU. Best results can be found using even larger arrays and more complex operations."
      ]
    },
    {
      "cell_type": "code",
      "metadata": {
        "colab_type": "code",
        "outputId": "ceb386ed-2897-4963-ff5e-0a4f6898b599",
        "id": "04lKJGTdkZT9",
        "colab": {
          "base_uri": "https://localhost:8080/",
          "height": 34
        }
      },
      "source": [
        "%%writefile arrayAdd.cu\n",
        "#include <iostream>\n",
        "#include <math.h>\n",
        "\n",
        "// Adding elements of both arrays\n",
        "\n",
        "__global__ void add(int n, float *x, float *y) {\n",
        "    \n",
        "    // Using grid-stride-loop\n",
        "    int index = blockIdx.x * blockDim.x + threadIdx.x;\n",
        "    int stride = blockDim.x * gridDim.x;\n",
        "\n",
        "    for(int i=index; i<n; i+= stride)\n",
        "      y[i] = x[i] + y[i];\n",
        "\n",
        "}\n",
        "\n",
        "int main () {\n",
        "    \n",
        "    int N = 1<<25;\n",
        "\n",
        "    float *x, *y;\n",
        "\n",
        "    cudaMallocManaged(&x, N*sizeof(float));\n",
        "    cudaMallocManaged(&y, N*sizeof(float));\n",
        "\n",
        "    for(int i=0; i<N; i++) {\n",
        "        x[i] = 1.0f;\n",
        "        y[i] = 2.0f;\n",
        "    }\n",
        "\n",
        "    // Prefetch data to avoid transfer overhead\n",
        "    int device = -1;\n",
        "    cudaGetDevice(&device);\n",
        "    cudaMemPrefetchAsync(x, N*sizeof(float), device, NULL);\n",
        "    cudaMemPrefetchAsync(y, N*sizeof(float), device, NULL);\n",
        "\n",
        "\n",
        "    // Kernel\n",
        "    int blockSize = 256;\n",
        "    int numBlocks = (N + blockSize - 1) / blockSize;\n",
        "    add<<<numBlocks, blockSize>>>(N, x, y);\n",
        "\n",
        "    // Wait Kernel to finish before procedding with CPU\n",
        "    cudaDeviceSynchronize();\n",
        "\n",
        "\n",
        "    float maxError = 0.0f;\n",
        "    for(int i = 0; i<N; i++)\n",
        "      maxError = fmax(maxError, fabs(y[i]-3.0f));\n",
        "\n",
        "    std::cout << \"Max error: \" << maxError << std::endl;\n",
        "\n",
        "\n",
        "    cudaFree(x);\n",
        "    cudaFree(y);\n",
        "\n",
        "\n",
        "}\n"
      ],
      "execution_count": 64,
      "outputs": [
        {
          "output_type": "stream",
          "text": [
            "Overwriting arrayAdd.cu\n"
          ],
          "name": "stdout"
        }
      ]
    },
    {
      "cell_type": "code",
      "metadata": {
        "id": "TP9BfmhHkZBC",
        "colab_type": "code",
        "colab": {
          "base_uri": "https://localhost:8080/",
          "height": 544
        },
        "outputId": "e842e7a8-ccad-4379-813d-28c39b03bb11"
      },
      "source": [
        "!nvcc arrayAdd.cu -o ex2_GPU\n",
        "!nvprof ./ex2_GPU"
      ],
      "execution_count": 65,
      "outputs": [
        {
          "output_type": "stream",
          "text": [
            "Max error: 0\n",
            "\n",
            "real\t0m0.693s\n",
            "user\t0m0.473s\n",
            "sys\t0m0.222s\n",
            "==3091== NVPROF is profiling process 3091, command: ./ex2_GPU\n",
            "Max error: 0\n",
            "==3091== Profiling application: ./ex2_GPU\n",
            "==3091== Profiling result:\n",
            "            Type  Time(%)      Time     Calls       Avg       Min       Max  Name\n",
            " GPU activities:  100.00%  736.86us         1  736.86us  736.86us  736.86us  add(int, float*, float*)\n",
            "      API calls:   83.50%  203.79ms         2  101.89ms  38.719us  203.75ms  cudaMallocManaged\n",
            "                    8.36%  20.396ms         1  20.396ms  20.396ms  20.396ms  cudaDeviceSynchronize\n",
            "                    5.69%  13.891ms         2  6.9456ms  5.9010ms  7.9902ms  cudaFree\n",
            "                    2.17%  5.3005ms         2  2.6502ms  201.64us  5.0989ms  cudaMemPrefetchAsync\n",
            "                    0.19%  467.32us         1  467.32us  467.32us  467.32us  cuDeviceTotalMem\n",
            "                    0.06%  147.31us        96  1.5340us     146ns  56.413us  cuDeviceGetAttribute\n",
            "                    0.02%  52.660us         1  52.660us  52.660us  52.660us  cudaLaunchKernel\n",
            "                    0.01%  13.068us         1  13.068us  13.068us  13.068us  cuDeviceGetName\n",
            "                    0.00%  4.9540us         1  4.9540us  4.9540us  4.9540us  cudaGetDevice\n",
            "                    0.00%  3.0070us         1  3.0070us  3.0070us  3.0070us  cuDeviceGetPCIBusId\n",
            "                    0.00%  1.8550us         3     618ns     162ns  1.2840us  cuDeviceGetCount\n",
            "                    0.00%     873ns         2     436ns     217ns     656ns  cuDeviceGet\n",
            "                    0.00%     306ns         1     306ns     306ns     306ns  cuDeviceGetUuid\n",
            "\n",
            "==3091== Unified Memory profiling result:\n",
            "Device \"Tesla P100-PCIE-16GB (0)\"\n",
            "   Count  Avg Size  Min Size  Max Size  Total Size  Total Time  Name\n",
            "     128  2.0000MB  2.0000MB  2.0000MB  256.0000MB  22.73539ms  Host To Device\n",
            "     768  170.67KB  4.0000KB  0.9961MB  128.0000MB  11.12278ms  Device To Host\n",
            "Total CPU Page faults: 1152\n"
          ],
          "name": "stdout"
        }
      ]
    }
  ]
}